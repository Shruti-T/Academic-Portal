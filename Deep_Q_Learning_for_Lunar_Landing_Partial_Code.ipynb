{
  "cells": [
    {
      "cell_type": "markdown",
      "metadata": {
        "id": "view-in-github",
        "colab_type": "text"
      },
      "source": [
        "<a href=\"https://colab.research.google.com/github/Shruti-T/Academic-Portal/blob/main/Deep_Q_Learning_for_Lunar_Landing_Partial_Code.ipynb\" target=\"_parent\"><img src=\"https://colab.research.google.com/assets/colab-badge.svg\" alt=\"Open In Colab\"/></a>"
      ]
    },
    {
      "cell_type": "markdown",
      "metadata": {
        "id": "LbZcI9ZXHl3a"
      },
      "source": [
        "# Deep Q-Learning for Lunar Landing"
      ]
    },
    {
      "cell_type": "markdown",
      "metadata": {
        "id": "E8yPRjteXgPb"
      },
      "source": [
        "## Part 0 - Installing the required packages and importing the libraries"
      ]
    },
    {
      "cell_type": "markdown",
      "metadata": {
        "id": "slEm5teGWjWU"
      },
      "source": [
        "### Installing Gymnasium"
      ]
    },
    {
      "cell_type": "code",
      "execution_count": 1,
      "metadata": {
        "id": "dbnq3XpoKa_7",
        "colab": {
          "base_uri": "https://localhost:8080/"
        },
        "outputId": "3400177f-17df-4319-c72e-7fccf635d5e2"
      },
      "outputs": [
        {
          "output_type": "stream",
          "name": "stdout",
          "text": [
            "Collecting gymnasium\n",
            "  Downloading gymnasium-0.29.1-py3-none-any.whl (953 kB)\n",
            "\u001b[?25l     \u001b[90m━━━━━━━━━━━━━━━━━━━━━━━━━━━━━━━━━━━━━━━━\u001b[0m \u001b[32m0.0/953.9 kB\u001b[0m \u001b[31m?\u001b[0m eta \u001b[36m-:--:--\u001b[0m\r\u001b[2K     \u001b[91m━━━━━━━━\u001b[0m\u001b[91m╸\u001b[0m\u001b[90m━━━━━━━━━━━━━━━━━━━━━━━━━━━━━━━\u001b[0m \u001b[32m204.8/953.9 kB\u001b[0m \u001b[31m6.1 MB/s\u001b[0m eta \u001b[36m0:00:01\u001b[0m\r\u001b[2K     \u001b[91m━━━━━━━━━━━━━━━━━━━━━━━━━━━━\u001b[0m\u001b[91m╸\u001b[0m\u001b[90m━━━━━━━━━━━\u001b[0m \u001b[32m686.1/953.9 kB\u001b[0m \u001b[31m10.0 MB/s\u001b[0m eta \u001b[36m0:00:01\u001b[0m\r\u001b[2K     \u001b[90m━━━━━━━━━━━━━━━━━━━━━━━━━━━━━━━━━━━━━━━━\u001b[0m \u001b[32m953.9/953.9 kB\u001b[0m \u001b[31m9.4 MB/s\u001b[0m eta \u001b[36m0:00:00\u001b[0m\n",
            "\u001b[?25hRequirement already satisfied: numpy>=1.21.0 in /usr/local/lib/python3.10/dist-packages (from gymnasium) (1.23.5)\n",
            "Requirement already satisfied: cloudpickle>=1.2.0 in /usr/local/lib/python3.10/dist-packages (from gymnasium) (2.2.1)\n",
            "Requirement already satisfied: typing-extensions>=4.3.0 in /usr/local/lib/python3.10/dist-packages (from gymnasium) (4.5.0)\n",
            "Collecting farama-notifications>=0.0.1 (from gymnasium)\n",
            "  Downloading Farama_Notifications-0.0.4-py3-none-any.whl (2.5 kB)\n",
            "Installing collected packages: farama-notifications, gymnasium\n",
            "Successfully installed farama-notifications-0.0.4 gymnasium-0.29.1\n",
            "Requirement already satisfied: gymnasium[accept-rom-license,atari] in /usr/local/lib/python3.10/dist-packages (0.29.1)\n",
            "Requirement already satisfied: numpy>=1.21.0 in /usr/local/lib/python3.10/dist-packages (from gymnasium[accept-rom-license,atari]) (1.23.5)\n",
            "Requirement already satisfied: cloudpickle>=1.2.0 in /usr/local/lib/python3.10/dist-packages (from gymnasium[accept-rom-license,atari]) (2.2.1)\n",
            "Requirement already satisfied: typing-extensions>=4.3.0 in /usr/local/lib/python3.10/dist-packages (from gymnasium[accept-rom-license,atari]) (4.5.0)\n",
            "Requirement already satisfied: farama-notifications>=0.0.1 in /usr/local/lib/python3.10/dist-packages (from gymnasium[accept-rom-license,atari]) (0.0.4)\n",
            "Collecting autorom[accept-rom-license]~=0.4.2 (from gymnasium[accept-rom-license,atari])\n",
            "  Downloading AutoROM-0.4.2-py3-none-any.whl (16 kB)\n",
            "Collecting shimmy[atari]<1.0,>=0.1.0 (from gymnasium[accept-rom-license,atari])\n",
            "  Downloading Shimmy-0.2.1-py3-none-any.whl (25 kB)\n",
            "Requirement already satisfied: click in /usr/local/lib/python3.10/dist-packages (from autorom[accept-rom-license]~=0.4.2->gymnasium[accept-rom-license,atari]) (8.1.7)\n",
            "Requirement already satisfied: requests in /usr/local/lib/python3.10/dist-packages (from autorom[accept-rom-license]~=0.4.2->gymnasium[accept-rom-license,atari]) (2.31.0)\n",
            "Requirement already satisfied: tqdm in /usr/local/lib/python3.10/dist-packages (from autorom[accept-rom-license]~=0.4.2->gymnasium[accept-rom-license,atari]) (4.66.1)\n",
            "Collecting AutoROM.accept-rom-license (from autorom[accept-rom-license]~=0.4.2->gymnasium[accept-rom-license,atari])\n",
            "  Downloading AutoROM.accept-rom-license-0.6.1.tar.gz (434 kB)\n",
            "\u001b[2K     \u001b[90m━━━━━━━━━━━━━━━━━━━━━━━━━━━━━━━━━━━━━━━━\u001b[0m \u001b[32m434.7/434.7 kB\u001b[0m \u001b[31m15.3 MB/s\u001b[0m eta \u001b[36m0:00:00\u001b[0m\n",
            "\u001b[?25h  Installing build dependencies ... \u001b[?25l\u001b[?25hdone\n",
            "  Getting requirements to build wheel ... \u001b[?25l\u001b[?25hdone\n",
            "  Preparing metadata (pyproject.toml) ... \u001b[?25l\u001b[?25hdone\n",
            "Collecting ale-py~=0.8.1 (from shimmy[atari]<1.0,>=0.1.0->gymnasium[accept-rom-license,atari])\n",
            "  Downloading ale_py-0.8.1-cp310-cp310-manylinux_2_17_x86_64.manylinux2014_x86_64.whl (1.7 MB)\n",
            "\u001b[2K     \u001b[90m━━━━━━━━━━━━━━━━━━━━━━━━━━━━━━━━━━━━━━━━\u001b[0m \u001b[32m1.7/1.7 MB\u001b[0m \u001b[31m51.9 MB/s\u001b[0m eta \u001b[36m0:00:00\u001b[0m\n",
            "\u001b[?25hRequirement already satisfied: importlib-resources in /usr/local/lib/python3.10/dist-packages (from ale-py~=0.8.1->shimmy[atari]<1.0,>=0.1.0->gymnasium[accept-rom-license,atari]) (6.1.1)\n",
            "Requirement already satisfied: charset-normalizer<4,>=2 in /usr/local/lib/python3.10/dist-packages (from requests->autorom[accept-rom-license]~=0.4.2->gymnasium[accept-rom-license,atari]) (3.3.2)\n",
            "Requirement already satisfied: idna<4,>=2.5 in /usr/local/lib/python3.10/dist-packages (from requests->autorom[accept-rom-license]~=0.4.2->gymnasium[accept-rom-license,atari]) (3.6)\n",
            "Requirement already satisfied: urllib3<3,>=1.21.1 in /usr/local/lib/python3.10/dist-packages (from requests->autorom[accept-rom-license]~=0.4.2->gymnasium[accept-rom-license,atari]) (2.0.7)\n",
            "Requirement already satisfied: certifi>=2017.4.17 in /usr/local/lib/python3.10/dist-packages (from requests->autorom[accept-rom-license]~=0.4.2->gymnasium[accept-rom-license,atari]) (2023.11.17)\n",
            "Building wheels for collected packages: AutoROM.accept-rom-license\n",
            "  Building wheel for AutoROM.accept-rom-license (pyproject.toml) ... \u001b[?25l\u001b[?25hdone\n",
            "  Created wheel for AutoROM.accept-rom-license: filename=AutoROM.accept_rom_license-0.6.1-py3-none-any.whl size=446660 sha256=fa811b292277e8cd737dd7ea51b56ad4805c60d17c36af4eb8d16e594dc3dd50\n",
            "  Stored in directory: /root/.cache/pip/wheels/6b/1b/ef/a43ff1a2f1736d5711faa1ba4c1f61be1131b8899e6a057811\n",
            "Successfully built AutoROM.accept-rom-license\n",
            "Installing collected packages: ale-py, shimmy, AutoROM.accept-rom-license, autorom\n",
            "Successfully installed AutoROM.accept-rom-license-0.6.1 ale-py-0.8.1 autorom-0.4.2 shimmy-0.2.1\n",
            "Reading package lists... Done\n",
            "Building dependency tree... Done\n",
            "Reading state information... Done\n",
            "The following additional packages will be installed:\n",
            "  swig4.0\n",
            "Suggested packages:\n",
            "  swig-doc swig-examples swig4.0-examples swig4.0-doc\n",
            "The following NEW packages will be installed:\n",
            "  swig swig4.0\n",
            "0 upgraded, 2 newly installed, 0 to remove and 24 not upgraded.\n",
            "Need to get 1,116 kB of archives.\n",
            "After this operation, 5,542 kB of additional disk space will be used.\n",
            "Get:1 http://archive.ubuntu.com/ubuntu jammy/universe amd64 swig4.0 amd64 4.0.2-1ubuntu1 [1,110 kB]\n",
            "Get:2 http://archive.ubuntu.com/ubuntu jammy/universe amd64 swig all 4.0.2-1ubuntu1 [5,632 B]\n",
            "Fetched 1,116 kB in 1s (794 kB/s)\n",
            "Selecting previously unselected package swig4.0.\n",
            "(Reading database ... 121666 files and directories currently installed.)\n",
            "Preparing to unpack .../swig4.0_4.0.2-1ubuntu1_amd64.deb ...\n",
            "Unpacking swig4.0 (4.0.2-1ubuntu1) ...\n",
            "Selecting previously unselected package swig.\n",
            "Preparing to unpack .../swig_4.0.2-1ubuntu1_all.deb ...\n",
            "Unpacking swig (4.0.2-1ubuntu1) ...\n",
            "Setting up swig4.0 (4.0.2-1ubuntu1) ...\n",
            "Setting up swig (4.0.2-1ubuntu1) ...\n",
            "Processing triggers for man-db (2.10.2-1) ...\n",
            "Requirement already satisfied: gymnasium[box2d] in /usr/local/lib/python3.10/dist-packages (0.29.1)\n",
            "Requirement already satisfied: numpy>=1.21.0 in /usr/local/lib/python3.10/dist-packages (from gymnasium[box2d]) (1.23.5)\n",
            "Requirement already satisfied: cloudpickle>=1.2.0 in /usr/local/lib/python3.10/dist-packages (from gymnasium[box2d]) (2.2.1)\n",
            "Requirement already satisfied: typing-extensions>=4.3.0 in /usr/local/lib/python3.10/dist-packages (from gymnasium[box2d]) (4.5.0)\n",
            "Requirement already satisfied: farama-notifications>=0.0.1 in /usr/local/lib/python3.10/dist-packages (from gymnasium[box2d]) (0.0.4)\n",
            "Collecting box2d-py==2.3.5 (from gymnasium[box2d])\n",
            "  Downloading box2d-py-2.3.5.tar.gz (374 kB)\n",
            "\u001b[2K     \u001b[90m━━━━━━━━━━━━━━━━━━━━━━━━━━━━━━━━━━━━━━━━\u001b[0m \u001b[32m374.4/374.4 kB\u001b[0m \u001b[31m9.7 MB/s\u001b[0m eta \u001b[36m0:00:00\u001b[0m\n",
            "\u001b[?25h  Preparing metadata (setup.py) ... \u001b[?25l\u001b[?25hdone\n",
            "Requirement already satisfied: pygame>=2.1.3 in /usr/local/lib/python3.10/dist-packages (from gymnasium[box2d]) (2.5.2)\n",
            "Collecting swig==4.* (from gymnasium[box2d])\n",
            "  Downloading swig-4.1.1.post1-py2.py3-none-manylinux_2_5_x86_64.manylinux1_x86_64.whl (1.8 MB)\n",
            "\u001b[2K     \u001b[90m━━━━━━━━━━━━━━━━━━━━━━━━━━━━━━━━━━━━━━━━\u001b[0m \u001b[32m1.8/1.8 MB\u001b[0m \u001b[31m21.9 MB/s\u001b[0m eta \u001b[36m0:00:00\u001b[0m\n",
            "\u001b[?25hBuilding wheels for collected packages: box2d-py\n",
            "  Building wheel for box2d-py (setup.py) ... \u001b[?25l\u001b[?25hdone\n",
            "  Created wheel for box2d-py: filename=box2d_py-2.3.5-cp310-cp310-linux_x86_64.whl size=2349119 sha256=55eec927078c4a0920523136af7c3b42f1df3ff305a400a9e510b6f40851e55c\n",
            "  Stored in directory: /root/.cache/pip/wheels/db/8f/6a/eaaadf056fba10a98d986f6dce954e6201ba3126926fc5ad9e\n",
            "Successfully built box2d-py\n",
            "Installing collected packages: swig, box2d-py\n",
            "Successfully installed box2d-py-2.3.5 swig-4.1.1.post1\n"
          ]
        }
      ],
      "source": [
        "!pip install gymnasium\n",
        "!pip install \"gymnasium[atari, accept-rom-license]\"\n",
        "!apt-get install -y swig\n",
        "!pip install gymnasium[box2d]"
      ]
    },
    {
      "cell_type": "markdown",
      "metadata": {
        "id": "brqiMN3UW9T9"
      },
      "source": [
        "### Importing the libraries"
      ]
    },
    {
      "cell_type": "code",
      "execution_count": 2,
      "metadata": {
        "id": "mZaKXP_aMl9O"
      },
      "outputs": [],
      "source": [
        "import os\n",
        "import random\n",
        "import numpy as np\n",
        "import torch\n",
        "import torch.nn as nn\n",
        "import torch.optim as optim\n",
        "import torch.nn.functional as F\n",
        "import torch.autograd as autograd\n",
        "from torch.autograd import Variable\n",
        "from collections import deque, namedtuple"
      ]
    },
    {
      "cell_type": "markdown",
      "metadata": {
        "id": "EzlDKXvkXzGI"
      },
      "source": [
        "## Part 1 - Building the AI"
      ]
    },
    {
      "cell_type": "markdown",
      "metadata": {
        "id": "UtG6Zc83YYy3"
      },
      "source": [
        "### Creating the architecture of the Neural Network"
      ]
    },
    {
      "cell_type": "code",
      "source": [
        "class Network(nn.Module):\n",
        "\n",
        "  def __init__(self, state_size , action_size, seed=42) :\n",
        "    super(Network, self).__init__() # super keyword in python is for inheritance\n",
        "    self.seed= torch.manual_seed(seed) #seed selection at random using inbuilt pytorch funciton - manual_seed\n",
        "    self.fc1 = nn.Linear(state_size, 64) # look notes for function explanation.\n",
        "    self.fc2 = nn.Linear(64, 64)\n",
        "    self.fc3 = nn.Linear(64, action_size)\n",
        "\n",
        "  # forward function will propogate the inputs form input layer to output layer via hidden layer.\n",
        "  def forward(self, state):\n",
        "    x = self.fc1(state) # returns 1st connected layer\n",
        "    x = F.relu(x) #relu is rectifier activation function from pytorch module\n",
        "    x = self.fc2(x) # returns 2st connected layer, x variable updated as 2nd layer\n",
        "    x = F.relu(x)\n",
        "    return self.fc3(x)\n"
      ],
      "metadata": {
        "id": "EH-vfkCzXUkx"
      },
      "execution_count": 3,
      "outputs": []
    },
    {
      "cell_type": "markdown",
      "metadata": {
        "id": "UxVrBnFWZKb1"
      },
      "source": [
        "## Part 2 - Training the AI"
      ]
    },
    {
      "cell_type": "markdown",
      "metadata": {
        "id": "T364fz9qZb2j"
      },
      "source": [
        "### Setting up the environment"
      ]
    },
    {
      "cell_type": "code",
      "source": [
        "import gymnasium as gym # had it installed not imported before hence the step\n",
        "env = gym.make('LunarLander-v2') # from gymnasium documentation.... steps to import\n",
        "state_shape = env.observation_space.shape # form\n",
        "state_size = env.observation_space.shape[0]\n",
        "number_actions = env.action_space.n\n",
        "print('State shape: ', state_shape)\n",
        "print('State size: ', state_size)\n",
        "print('Number of acitons: ', number_actions)\n"
      ],
      "metadata": {
        "colab": {
          "base_uri": "https://localhost:8080/"
        },
        "id": "z6dan9mnCTR_",
        "outputId": "57352b63-ae28-4cb5-e6a6-459539b1c15b"
      },
      "execution_count": 4,
      "outputs": [
        {
          "output_type": "stream",
          "name": "stdout",
          "text": [
            "State shape:  (8,)\n",
            "State size:  8\n",
            "Number of acitons:  4\n"
          ]
        }
      ]
    },
    {
      "cell_type": "markdown",
      "metadata": {
        "id": "c_dZmOIvZgj-"
      },
      "source": [
        "### Initializing the hyperparameters"
      ]
    },
    {
      "cell_type": "code",
      "source": [
        "learning_rate = 5e-4 # check in detail about all these hyperparameter and what they offer in AI\n",
        "minibatch_size = 100\n",
        "discount_factor = 0.99\n",
        "replay_buffer_size = int(1e5)\n",
        "interpolation_parameter = 1e-3"
      ],
      "metadata": {
        "colab": {
          "base_uri": "https://localhost:8080/"
        },
        "id": "peCcz4jFcYN_",
        "outputId": "28a93db2-cada-4efb-ff0d-88ca86433788"
      },
      "execution_count": 5,
      "outputs": [
        {
          "output_type": "stream",
          "name": "stderr",
          "text": [
            "/usr/local/lib/python3.10/dist-packages/ipykernel/ipkernel.py:283: DeprecationWarning: `should_run_async` will not call `transform_cell` automatically in the future. Please pass the result to `transformed_cell` argument and any exception that happen during thetransform in `preprocessing_exc_tuple` in IPython 7.17 and above.\n",
            "  and should_run_async(code)\n"
          ]
        }
      ]
    },
    {
      "cell_type": "markdown",
      "metadata": {
        "id": "8hD_Vs-bYnip"
      },
      "source": [
        "### Implementing Experience Replay"
      ]
    },
    {
      "cell_type": "code",
      "source": [
        "class ReplayMemory(object): #new class no inheritance\n",
        "  # constructive method to initialize the replay memory method\n",
        "  def __init__(self,capacity): # capacity of memory\n",
        "    self.device = torch.device(\"cuda:0\" if torch.cuda.is_available() else \"cpu\") # if we want to use the code outside of colab...  eg incase jupiter..\n",
        "    self.capacity = capacity\n",
        "    self.memory = [] # list that stores the experience i.e state, action, reward, we done or not..\n",
        "\n",
        "  # push method to add an experience event into the memory buffer\n",
        "  def push(self, event): # event has all those state, action, reward... etc\n",
        "    self.memory.append(event)\n",
        "    # for this to not exceed its capacity\n",
        "    if len(self.memory) > self.capacity:\n",
        "      del self.memory[0]\n",
        "\n",
        "  # sample method to randomly select batch of experience form memory buffer\n",
        "  def sample(self, batch_size): # number of experiences that are gonna be sampled in the batch\n",
        "    experiences = random.sample(self.memory, k = batch_size)\n",
        "    #To extract one by one each different element of each sample (state, action, reward)\n",
        "    states = torch.from_numpy(np.vstack([e[0] for e in experiences if e is not None ])).float().to(self.device) # check diary for explanation\n",
        "    actions = torch.from_numpy(np.vstack([e[1] for e in experiences if e is not None ])).long().to(self.device)\n",
        "    rewards = torch.from_numpy(np.vstack([e[2] for e in experiences if e is not None ])).float().to(self.device)\n",
        "    next_states= torch.from_numpy(np.vstack([e[3] for e in experiences if e is not None ])).float().to(self.device)\n",
        "    dones = torch.from_numpy(np.vstack([e[4] for e in experiences if e is not None ]).astype(np.uint8)).float().to(self.device)\n",
        "    return states, next_states, actions, rewards, dones\n"
      ],
      "metadata": {
        "id": "p7Bmg9vsf1-3"
      },
      "execution_count": 6,
      "outputs": []
    },
    {
      "cell_type": "markdown",
      "metadata": {
        "id": "JmEkbFbUY6Jt"
      },
      "source": [
        "### Implementing the DQN class"
      ]
    },
    {
      "cell_type": "code",
      "source": [
        "class Agent():\n",
        "  def __init__(self, state_size, action_size):\n",
        "    self.device = torch.device(\"cuda:0\" if torch.cuda.is_available() else \"cpu\")\n",
        "    self.state_size = state_size\n",
        "    self.action_size = action_size\n",
        "    # creating two network i.e instance of class Network.\n",
        "    self.local_qnetwork = Network(state_size, action_size).to(self.device)\n",
        "    self.target_qnetwork = Network(state_size, action_size).to(self.device)\n",
        "    # optimizer which is being created form adam class.... from optim module.\n",
        "    self.optimizer = optim.Adam(self.local_qnetwork.parameters(),lr = learning_rate)\n",
        "    # memory of AI instance using memory class, takes argument as capacity=replay buffer size\n",
        "    self.memory = ReplayMemory(replay_buffer_size)\n",
        "    #time stamp i.e at which moment we learn and update the ntw params\n",
        "    self.t_step = 0\n",
        "\n",
        "  def step(self, state, action, reward, next_state, done):\n",
        "    # have init the memory method in constructor, replayMemory. also already coded the push method\n",
        "    self.memory.push(( state, action, reward, next_state, done))\n",
        "    # increment t_step for agent to learn, the ()%4 means that if it is divisible by 0, then the divion output is zero and it gets reset. So every 4 step.\n",
        "    self.t_step = (self.t_step + 1) % 4\n",
        "    if self.t_step == 0:\n",
        "      # we learn on minibatch then check no of experience is already larger than the minibatch\n",
        "      if len(self.memory.memory) > minibatch_size:\n",
        "        experiences = self.memory.sample(100)\n",
        "        self.learn(experiences, discount_factor)\n",
        "  #epsilon greedy policy\n",
        "  def act(self, state, epsilon = 0.):\n",
        "    # state is a numpy array we need it in torch tensor\n",
        "    state = torch.from_numpy(state).float().unsqueeze(0).to(self.device) # in torch tensor, float type, new dimension added for \"belongs to what batch\", and send to device\n",
        "    #to set oue local q ntw into evalution mode, we have eval method inherited inside Network class from nn module\n",
        "    self.local_qnetwork.eval()\n",
        "    # check we are not in trainging mode but rather making prediction, no_grad make sure gradient computation is disabled\n",
        "    with torch.no_grad():\n",
        "      action_values = self.local_qnetwork(state) #predicted actions = action values, here we are forward passing the state into connected next layer.\n",
        "    self.local_qnetwork.train() # back to training mode\n",
        "    #action selection policy, epsilon greedy\n",
        "    if random.random() > epsilon:\n",
        "      return np.argmax(action_values.cpu().data.numpy())\n",
        "    else:\n",
        "      return random.choice(np.arange(self.action_size))\n",
        "\n",
        "  def learn(self,experiences, discount_factor):\n",
        "    states, next_states, actions, rewards, dones = experiences\n",
        "    # get max Q values from targeted Qntw\n",
        "     # the detach function seperates the tensor from computational graph... :( ## the [0] is becz we get at tensor for max values and tensor of indices... hence [0] to get max\n",
        "    next_q_targets = self.target_qnetwork(next_states).detach().max(1)[0].unsqueeze(1)\n",
        "    q_targets = rewards + (discount_factor * next_q_targets * (1-dones))\n",
        "    q_expected = self.local_qnetwork(states).gather(1,actions)\n",
        "    #compare expected vs predicted\n",
        "    loss = F.mse_loss(q_expected,q_targets)\n",
        "    self.optimizer.zero_grad()\n",
        "    # update i.e backprop when loss... that is not converged.\n",
        "    loss.backward()\n",
        "    self.optimizer.step() #step to update model params\n",
        "    self.soft_update(self.local_qnetwork, self.target_qnetwork, interpolation_parameter)\n",
        "\n",
        "\n",
        "  def soft_update(self, local_model, target_model, interpolation_parameter):\n",
        "    for target_param, local_param in zip(target_model.parameters(),local_model.parameters()):\n",
        "      target_param.data.copy_(interpolation_parameter * local_param.data + (1.0 - interpolation_parameter) * target_param.data)\n",
        "\n"
      ],
      "metadata": {
        "id": "LmIrGBM6QWXx"
      },
      "execution_count": 7,
      "outputs": []
    },
    {
      "cell_type": "markdown",
      "source": [
        "###Initializing the DQN Agent"
      ],
      "metadata": {
        "id": "sNc65BNkBIcj"
      }
    },
    {
      "cell_type": "code",
      "source": [
        "agent = Agent(state_size, number_actions)"
      ],
      "metadata": {
        "id": "mmKP7mN4BV3S"
      },
      "execution_count": 8,
      "outputs": []
    },
    {
      "cell_type": "markdown",
      "metadata": {
        "id": "E8v0PtUfaVQp"
      },
      "source": [
        "### Training the DQN agent"
      ]
    },
    {
      "cell_type": "code",
      "source": [
        "number_episodes = 2000\n",
        "# we dont want our agent stuck in one state... like in air...\n",
        "maximum_number_timesteps_per_episode =1000\n",
        "epsilon_starting_value = 1.0\n",
        "# reduce epsilon to test other epsilon values\n",
        "epsilon_ending_value = 0.01\n",
        "epsilon_decay_value = 0.995\n",
        "epsilon = epsilon_starting_value\n",
        "scores_on_100_epsiodes = deque(maxlen = 100) # some unction called deque for double queue\n",
        "\n",
        "for episode in range(1, number_episodes + 1):\n",
        "  state, _ = env.reset()\n",
        "  score = 0\n",
        "  for t in range(maximum_number_timesteps_per_episode):\n",
        "    action = agent.act(state, epsilon)\n",
        "    next_state, reward, done, _, _ = env.step(action)\n",
        "    agent.step(state, action, reward, next_state, done)\n",
        "    state = next_state\n",
        "    score += reward\n",
        "    if done:\n",
        "      break\n",
        "  scores_on_100_epsiodes.append(score)\n",
        "  epsilon = max(epsilon_ending_value, epsilon_decay_value * epsilon)\n",
        "  print('\\rEpisode {}\\tAverage Score: {:.2f}'.format(episode, np.mean(scores_on_100_epsiodes)), end = \"\")\n",
        "  if episode % 100 == 0:\n",
        "    print('\\rEpisode {}\\tAverage Score: {:.2f}'.format(episode, np.mean(scores_on_100_epsiodes)))\n",
        "  if np.mean(scores_on_100_epsiodes) >= 200.0:\n",
        "    print('\\nEnvironment solved in {:d} episodes!\\tAverage Score: {:.2f}'.format(episode - 100, np.mean(scores_on_100_epsiodes)))\n",
        "    torch.save(agent.local_qnetwork.state_dict(), 'checkpoint.pth')\n",
        "    break\n"
      ],
      "metadata": {
        "colab": {
          "base_uri": "https://localhost:8080/"
        },
        "id": "9EYHpnrMemHU",
        "outputId": "a86eb1b9-efb5-4df8-eeaf-0b8dfc52fad0"
      },
      "execution_count": 9,
      "outputs": [
        {
          "output_type": "stream",
          "name": "stderr",
          "text": [
            "/usr/local/lib/python3.10/dist-packages/ipykernel/ipkernel.py:283: DeprecationWarning: `should_run_async` will not call `transform_cell` automatically in the future. Please pass the result to `transformed_cell` argument and any exception that happen during thetransform in `preprocessing_exc_tuple` in IPython 7.17 and above.\n",
            "  and should_run_async(code)\n"
          ]
        },
        {
          "output_type": "stream",
          "name": "stdout",
          "text": [
            "Episode 100\tAverage Score: -155.43\n",
            "Episode 200\tAverage Score: -105.31\n",
            "Episode 300\tAverage Score: -38.50\n",
            "Episode 400\tAverage Score: 36.57\n",
            "Episode 500\tAverage Score: 37.52\n",
            "Episode 600\tAverage Score: 118.47\n",
            "Episode 700\tAverage Score: 136.86\n",
            "Episode 800\tAverage Score: 182.16\n",
            "Episode 821\tAverage Score: 200.26\n",
            "Environment solved in 721 episodes!\tAverage Score: 200.26\n"
          ]
        }
      ]
    },
    {
      "cell_type": "markdown",
      "metadata": {
        "id": "O8CNwdOTcCoP"
      },
      "source": [
        "## Part 3 - Visualizing the results"
      ]
    },
    {
      "cell_type": "code",
      "execution_count": 10,
      "metadata": {
        "id": "cb9nVvU2Okhk",
        "colab": {
          "base_uri": "https://localhost:8080/",
          "height": 458
        },
        "outputId": "b6c9a87b-942a-4b43-8c06-9c34a0cb34ed"
      },
      "outputs": [
        {
          "output_type": "stream",
          "name": "stderr",
          "text": [
            "WARNING:imageio_ffmpeg:IMAGEIO FFMPEG_WRITER WARNING: input image is not divisible by macro_block_size=16, resizing from (600, 400) to (608, 400) to ensure video compatibility with most codecs and players. To prevent resizing, make your input image divisible by the macro_block_size or set the macro_block_size to 1 (risking incompatibility).\n"
          ]
        },
        {
          "output_type": "display_data",
          "data": {
            "text/plain": [
              "<IPython.core.display.HTML object>"
            ],
            "text/html": [
              "<video alt=\"test\" autoplay\n",
              "                loop controls style=\"height: 400px;\">\n",
              "                <source src=\"data:video/mp4;base64,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\" type=\"video/mp4\" />\n",
              "             </video>"
            ]
          },
          "metadata": {}
        }
      ],
      "source": [
        "import glob\n",
        "import io\n",
        "import base64\n",
        "import imageio\n",
        "from IPython.display import HTML, display\n",
        "from gym.wrappers.monitoring.video_recorder import VideoRecorder\n",
        "\n",
        "def show_video_of_model(agent, env_name):\n",
        "    env = gym.make(env_name, render_mode='rgb_array')\n",
        "    state, _ = env.reset()\n",
        "    done = False\n",
        "    frames = []\n",
        "    while not done:\n",
        "        frame = env.render()\n",
        "        frames.append(frame)\n",
        "        action = agent.act(state)\n",
        "        state, reward, done, _, _ = env.step(action.item())\n",
        "    env.close()\n",
        "    imageio.mimsave('video.mp4', frames, fps=30)\n",
        "\n",
        "show_video_of_model(agent, 'LunarLander-v2')\n",
        "\n",
        "def show_video():\n",
        "    mp4list = glob.glob('*.mp4')\n",
        "    if len(mp4list) > 0:\n",
        "        mp4 = mp4list[0]\n",
        "        video = io.open(mp4, 'r+b').read()\n",
        "        encoded = base64.b64encode(video)\n",
        "        display(HTML(data='''<video alt=\"test\" autoplay\n",
        "                loop controls style=\"height: 400px;\">\n",
        "                <source src=\"data:video/mp4;base64,{0}\" type=\"video/mp4\" />\n",
        "             </video>'''.format(encoded.decode('ascii'))))\n",
        "    else:\n",
        "        print(\"Could not find video\")\n",
        "\n",
        "show_video()"
      ]
    }
  ],
  "metadata": {
    "colab": {
      "provenance": [],
      "include_colab_link": true
    },
    "kernelspec": {
      "display_name": "Python 3",
      "name": "python3"
    },
    "language_info": {
      "name": "python"
    }
  },
  "nbformat": 4,
  "nbformat_minor": 0
}